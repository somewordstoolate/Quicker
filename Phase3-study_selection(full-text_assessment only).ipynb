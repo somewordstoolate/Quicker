{
 "cells": [
  {
   "cell_type": "markdown",
   "metadata": {},
   "source": [
    "# Study Selection\n",
    "partial version, contains full-text assessment "
   ]
  },
  {
   "cell_type": "code",
   "execution_count": 29,
   "metadata": {},
   "outputs": [],
   "source": [
    "import pandas as pd\n",
    "import os\n",
    "import json\n",
    "import logging\n",
    "import time\n",
    "\n",
    "from utils.General.quicker import Quicker, QuickerData, QuickerStage\n",
    "from utils.Evidence_Assessment.paper import Paper\n",
    "from utils.Evidence_Assessment.outcome import Outcome\n",
    "from utils.Evidence_Assessment.evidence import Evidence\n",
    "from utils.logging import setup_logging\n",
    "\n",
    "# setup_logging()\n",
    "\n",
    "# Hyperparameters\n",
    "YOUR_CONFIG_PATH = 'config/config.json' #  your config.json file\n",
    "YOUR_DATASET_PATH = 'data/2021ACR RA' # your dataset path\n",
    "YOUR_QUESTION_DECOMPOSITION_PATH =  'data/2021ACR RA/Question_Decomposition' # your question decomposition folder\n",
    "YOUR_LITERATURE_SEARCH_PATH = 'data/2021ACR RA/Literature_Search' # your literature search folder\n",
    "YOUR_STUDY_SELECTION_PATH = 'data/2021ACR RA/Study_Selection' # your study selection folder\n",
    "YOUR_EVIDENCE_ASSESSMENT_PATH = 'data/2021ACR RA/Evidence_Assessment' # your evidence assessment folder\n",
    "YOUR_PAPER_LIBRARY_PATH = 'data/2021ACR RA/Paper_Library' # your paper library folder\n",
    "\n",
    "\n",
    "disease = 'Rheumatoid Arthritis (RA)' # Disease name or clinical topic of your clinical question. \n",
    "pico_idx = \"ef0e4f95\" # PICO index of the clinical question, saved in your PICO_Information.json file\n",
    "\n",
    "\n",
    "study_design_list = ['randomized clinical trial'] # Study design list for inclusion criteria"
   ]
  },
  {
   "cell_type": "code",
   "execution_count": 30,
   "metadata": {},
   "outputs": [],
   "source": [
    "# The following example code is used to load included records from the json file by Quicker.quicker_data.to_json method.\n",
    "# record_included_path = \"your_record_included_path\" # json file. You can use the file saved by Quicker.quicker_data.to_json method.\n",
    "# with open(record_included_path, 'r') as f:\n",
    "#     record_included_dict = json.load(f)\n",
    "# record_included_list = record_included_dict['record_included_studies'] \n",
    "\n",
    "# The included record is a dictionary satisfying the following format:\n",
    "example_record = {\"title\": \"Full dose, reduced dose or discontinuation of etanercept in rheumatoid arthritis.\",\n",
    "            \"paper_uid\": \"566c1573\",\n",
    "            \"pmid\": \"25873634\",\n",
    "            \"reference\": None,\n",
    "            \"authors\": None,\n",
    "            \"year\": \"2015-04-14\",\n",
    "            \"abstract\": \"BACKGROUND: The aim of the Dose Reduction or Discontinuation of Etanercept in Methotrexate-Treated Rheumatoid Arthritis Patients Who Have Achieved a Stable Low Disease Activity-State study was to investigate the effect of etanercept (ETN) dose maintenance, reduction or withdrawal on patients with rheumatoid arthritis (RA) who had already achieved stable low disease activity (LDA) on ETN 50 mg+methotrexate (MTX).\\nMETHODS: Patients with RA (n=91) and stable LDA with ETN 50 mg once weekly (QW)+MTX were included. After 8 weeks with unchanged treatment, 73 patients were randomised in a double-blind design to ETN 50 mg QW+MTX (ETN50), ETN 25 mg QW+MTX (ETN25) or placebo QW+MTX (PBO) for 48 weeks. Patients who flared were declared failures and treated with open-label ETN50 until week 48. The primary outcome was the proportion of patients on ETN50 versus PBO who were non-failures after 48 weeks.\\nRESULTS: The proportion of non-failure patients was significantly lower with ETN50 (52%; p=0.007) and ETN25 (44%; p=0.044) versus PBO (13%). Median time to failure was significantly shorter with PBO (6 weeks) compared with ETN50 (48 weeks; p=0.001) and ETN25 (36 weeks; p<0.001). The majority of patients who flared regained LDA with open-label ETN50 quickly. Adverse events were consistent with the known side effect profiles of these medications.\\nCONCLUSIONS: In patients with established RA who have achieved stable LDA on ETN50+MTX, continuing both is superior to PBO+MTX. Reduced dose ETN was also more effective than PBO in maintaining a favourable response, suggesting that a maintenance strategy with reduced dose ETN may be possible in a number of patients with established RA.\\nTRIAL REGISTRATION NUMBER: NCT00858780.\",\n",
    "            \"url\": \"10.1136/annrheumdis-2014-205726\",\n",
    "            \"doi\": \"10.1136/annrheumdis-2014-205726\",\n",
    "            \"journal\": None,\n",
    "            \"save_folder_path\":'data/2021ACR RA/Paper_Library/PICOef0e4f95/566c1573' # optional, Path to save the paper library. If don't specify, you should implement the automatic function to match the paper save path.\n",
    "            }\n",
    "record_included_list = [example_record] # list of included records"
   ]
  },
  {
   "cell_type": "code",
   "execution_count": 31,
   "metadata": {},
   "outputs": [],
   "source": [
    "quicker_data = QuickerData(disease=disease,pico_idx=pico_idx)\n",
    "quicker = Quicker(\n",
    "    config_path=YOUR_CONFIG_PATH,\n",
    "    question_deconstruction_database_path=YOUR_QUESTION_DECOMPOSITION_PATH,\n",
    "    literature_search_database_path=YOUR_LITERATURE_SEARCH_PATH,\n",
    "    study_selection_database_path=YOUR_STUDY_SELECTION_PATH,\n",
    "    evidence_assessment_database_path=YOUR_EVIDENCE_ASSESSMENT_PATH,\n",
    "    quicker_data=quicker_data,\n",
    "    paper_library_base=YOUR_PAPER_LIBRARY_PATH,\n",
    ")\n",
    "\n",
    "quicker.comparator_postfix_map = {} #! set {} if only one comparator\n",
    "\n",
    "\n",
    "question_deconstruction_datapath = os.path.join(\n",
    "    quicker.question_deconstruction_database_path, 'PICO_Information.json'\n",
    ")\n",
    "question_deconstruction_data = pd.read_json(\n",
    "    question_deconstruction_datapath, dtype={'Index': str}\n",
    ")\n",
    "question_deconstruction_data = question_deconstruction_data[\n",
    "    question_deconstruction_data['Index'] == pico_idx\n",
    "]\n",
    "original_qd_dict = question_deconstruction_data.to_dict(orient='records')\n",
    "\n",
    "data_dict = dict(\n",
    "    clinical_question=original_qd_dict[0]['Question'],\n",
    "    population=original_qd_dict[0]['P'],\n",
    "    intervention=original_qd_dict[0]['I'],\n",
    "    comparison=original_qd_dict[0]['C'],\n",
    "    study=study_design_list,\n",
    "    outcome=original_qd_dict[0]['O'], #! optional, specify the outcomes you want to assess so that identified outcomes will be categorized into these outcomes\n",
    "\n",
    ")\n",
    "\n",
    "quicker._add_data_to_quickerdata_for_test(\n",
    "    stage=QuickerStage.LITERATURE_SEARCH,\n",
    "    default_value=data_dict,\n",
    ")\n",
    "\n",
    "quicker.set_inclusion_exclusion_criteria(inclusion_criteria='', exclusion_criteria='')"
   ]
  },
  {
   "cell_type": "code",
   "execution_count": 32,
   "metadata": {},
   "outputs": [
    {
     "name": "stdout",
     "output_type": "stream",
     "text": [
      "Quicker: STUDY_SELECTION\n",
      "StageState.NOT_STARTED\n"
     ]
    }
   ],
   "source": [
    "print(quicker)\n",
    "# print(quicker.quicker_data)\n",
    "print(quicker.quicker_data.check_stage_state())"
   ]
  },
  {
   "cell_type": "code",
   "execution_count": 33,
   "metadata": {},
   "outputs": [],
   "source": [
    "#! Please implement the get_pdf method of class Paper in utils\\Evidence_Assessment\\paper.py\n",
    "_, _, _ = quicker.select_studies_by_full_text_assessment(record_included_list)"
   ]
  }
 ],
 "metadata": {
  "kernelspec": {
   "display_name": "quicker",
   "language": "python",
   "name": "python3"
  },
  "language_info": {
   "codemirror_mode": {
    "name": "ipython",
    "version": 3
   },
   "file_extension": ".py",
   "mimetype": "text/x-python",
   "name": "python",
   "nbconvert_exporter": "python",
   "pygments_lexer": "ipython3",
   "version": "3.11.10"
  }
 },
 "nbformat": 4,
 "nbformat_minor": 2
}
