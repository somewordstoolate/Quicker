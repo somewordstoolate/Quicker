{
 "cells": [
  {
   "cell_type": "markdown",
   "metadata": {},
   "source": [
    "## Question Decomposition"
   ]
  },
  {
   "cell_type": "code",
   "execution_count": 1,
   "metadata": {},
   "outputs": [],
   "source": [
    "from langchain_openai import ChatOpenAI\n",
    "from langchain_openai import OpenAIEmbeddings\n",
    "from langchain_core.prompts import PromptTemplate\n",
    "from langchain_core.exceptions import OutputParserException\n",
    "from langchain_core.output_parsers import StrOutputParser\n",
    "from langchain_core.runnables import (\n",
    "    RunnableLambda,\n",
    "    RunnableParallel,\n",
    "    RunnablePassthrough,\n",
    ")\n",
    "import json\n",
    "import os\n",
    "import hashlib\n",
    "import pandas as pd\n",
    "\n",
    "from utils.PICO.prompt import get_zero_shot_pipeline_prompt,get_few_shot_pipeline_prompt\n",
    "from utils.PICO.few_shot import match_few_shot, create_example_selector\n",
    "from utils.PICO.pfe import generate_experience,generate_answer,combine_examples_with_experience\n",
    "from utils.PICO.base import create_dataset\n",
    "\n",
    "\n",
    "\n",
    "# Hyperparameters\n",
    "YOUR_CONFIG_PATH = 'YOUR_CONFIG_PATH'  # e.g. 'config/config.json'\n",
    "YOUR_QUESTION_DECOMPOSTITION_PATH =  'YOUR_QUESTION_DECOMPOSTITION_PATH' # e.g. 'data/2021ACR RA/Question_Decomposition'\n",
    "\n",
    "dataset_name =  '2021ACR RA' # Choose from: 2021ACR RA, 2020EAN Dementia, 2024KDIGO CKD. If you want to use your own dataset, please modify the code accordingly.\n",
    "clinical_question = \"YOUR_CLINICAL_QUETSION\" # Example: \"In RA patients who have achieved sustained remission for over one year with DMARD monotherapy, is drug discontinuation advisable?\""
   ]
  },
  {
   "cell_type": "code",
   "execution_count": null,
   "metadata": {},
   "outputs": [],
   "source": [
    "\n",
    "config_path = os.path.join(YOUR_CONFIG_PATH)\n",
    "with open(config_path, 'r', encoding=\"utf8\") as file:\n",
    "            config = json.load(file)\n",
    "model_config = config['model']\n",
    "provider = model_config[f'question_decomposition_model'].get('provider', 'OpenAI')\n",
    "model_name = model_config[f'question_decomposition_model']['model_name']\n",
    "api_key = model_config[f'question_decomposition_model']['API_KEY']\n",
    "api_base_URL = model_config[f'question_decomposition_model']['BASE_URL']\n",
    "qd_model = ChatOpenAI(openai_api_key=api_key, base_url=api_base_URL, model=model_name)\n"
   ]
  },
  {
   "cell_type": "code",
   "execution_count": 5,
   "metadata": {},
   "outputs": [
    {
     "name": "stderr",
     "output_type": "stream",
     "text": [
      "/data/lidubai/lidubai/Quicker/utils/PICO/prompt.py:102: LangChainDeprecationWarning: This class is deprecated. Please see the docstring below or at the link for a replacement option: https://python.langchain.com/api_reference/core/prompts/langchain_core.prompts.pipeline.PipelinePromptTemplate.html\n",
      "  pipeline_prompt = PipelinePromptTemplate(\n"
     ]
    }
   ],
   "source": [
    "# Quicker contains three question decomposition methods: zero-shot, few-shot, and self-reelection. You can choose one of them based on your needs.\n",
    "# Constructing the pipeline\n",
    "\n",
    "# For zero-shot, you can use the following code:\n",
    "pipeline_prompt = get_zero_shot_pipeline_prompt(dataset_name)\n",
    "output_parser = StrOutputParser()\n",
    "later_zero_shot_exp = qd_model | output_parser\n",
    "local_zero_shot_chain = pipeline_prompt | RunnableParallel(\n",
    "    generation_chain=later_zero_shot_exp, prompt_value=RunnablePassthrough()\n",
    "    )\n",
    "\n",
    "'''\n",
    "# Additional hyperparameters needed for few-shot and self-reflection\n",
    "shot_num = 5\n",
    "model_embedding = OpenAIEmbeddings(\n",
    "    api_key=config['model']['embeddings']['API_KEY'],\n",
    "    base_url=config['model']['embeddings']['BASE_URL'],\n",
    "    model=config['model']['embeddings']['model_name'],\n",
    ")\n",
    "# Following code is an example of creating a train dataset. Or you can specify your own train dataset (list) as examples. \n",
    "train_num = 20\n",
    "train_dataset, train_dataset_df = create_dataset(\n",
    "        dataset_name, 'train', train_num, return_df=True\n",
    "    )\n",
    "\n",
    "# For few-shot, you can use the following code:\n",
    "few_shot_prompt = match_few_shot(\n",
    "        shot_num, train_dataset, model_embedding, dataset_name\n",
    "    )\n",
    "pipeline_prompt = get_few_shot_pipeline_prompt(dataset_name, few_shot_prompt)\n",
    "output_parser = StrOutputParser()\n",
    "later_few_shot_exp = qd_model | output_parser\n",
    "local_few_shot_chain = pipeline_prompt | RunnableParallel(\n",
    "    generation_chain=later_few_shot_exp, prompt_value=RunnablePassthrough()\n",
    ")\n",
    "\n",
    "\n",
    "# Additional hyperparameters needed for self-reflection\n",
    "pfe_save_path = \"YOUR_PFE_SAVE_PATH\" # The path to save the answer-experience pairs\n",
    "regenerate = False # True if you want to regenerate the experience\n",
    "# For self-reflection, you can use the following code:\n",
    "data_path = os.path.join(\n",
    "    pfe_save_path, f'train_data_with_exp_tn{shot_num}.csv'\n",
    ")  \n",
    "if os.path.exists(data_path):\n",
    "    data_with_generation = pd.read_csv(data_path)\n",
    "    if regenerate:\n",
    "        # generate experience\n",
    "        data_with_exp = data_with_generation.apply(\n",
    "            lambda x: generate_experience(qd_model, x, dataset_name), axis=1\n",
    "        )\n",
    "        data_with_exp.to_csv(data_path, index=False)\n",
    "    else:\n",
    "        data_with_exp = data_with_generation\n",
    "\n",
    "else:\n",
    "    # generate answer\n",
    "    example_selector = create_example_selector(\n",
    "        shot_num + 1, train_dataset, model_embedding, dataset_name, 'pfe_fs'\n",
    "    )\n",
    "    data_with_generation = train_dataset_df.apply(\n",
    "        lambda x: generate_answer(x, qd_model, example_selector, dataset_name), axis=1\n",
    "    )\n",
    "    data_with_generation.to_csv(data_path, index=False)\n",
    "    # generate experience\n",
    "    data_with_exp = data_with_generation.apply(\n",
    "        lambda x: generate_experience(qd_model, x, dataset_name), axis=1\n",
    "    )\n",
    "    data_with_exp.to_csv(data_path, index=False)\n",
    "\n",
    "\n",
    "# creater pfe_example_selector\n",
    "train_dataset_with_exp = []\n",
    "for i in range(len(data_with_exp)):\n",
    "    train_dataset_with_exp.append(\n",
    "        {\n",
    "            \"Question\": data_with_exp['Question'].iloc[i],\n",
    "            \"Answer\": data_with_exp['Answer'].iloc[i],\n",
    "            \"Experience\": data_with_exp['Experience'].iloc[i],\n",
    "        }\n",
    "    )\n",
    "pfe_example_selector = create_example_selector(\n",
    "    shot_num, train_dataset_with_exp, model_embedding, dataset_name, 'pfe'\n",
    ")\n",
    "\n",
    "\n",
    "output_parser = StrOutputParser()\n",
    "later_npe_exp = qd_model | output_parser\n",
    "local_pfe_chain = RunnableLambda(\n",
    "    lambda x: combine_examples_with_experience(\n",
    "        pfe_example_selector=pfe_example_selector, dataset_name=dataset_name, **x\n",
    "    )\n",
    ") | RunnableParallel(\n",
    "    generation_chain=later_npe_exp, prompt_value=RunnablePassthrough()\n",
    ")\n",
    "'''"
   ]
  },
  {
   "cell_type": "code",
   "execution_count": 6,
   "metadata": {},
   "outputs": [],
   "source": [
    "# Change the chain if you use the other two methods\n",
    "answer_dict = local_zero_shot_chain.invoke({\"Question\": clinical_question})"
   ]
  },
  {
   "cell_type": "code",
   "execution_count": 7,
   "metadata": {},
   "outputs": [
    {
     "name": "stdout",
     "output_type": "stream",
     "text": [
      "```json\n",
      "{\n",
      "    \"P\": \"RA patients in sustained remission for over one year with DMARD monotherapy\"\n",
      "}\n",
      "```\n",
      "```json\n",
      "{\n",
      "    \"I\": \"Drug discontinuation\"\n",
      "}\n",
      "```\n",
      "```json\n",
      "{\n",
      "    \"C\": \"Continued DMARD monotherapy\"\n",
      "}\n",
      "```\n",
      "```json\n",
      "{\n",
      "    \"O\": \"Risk of disease flare or remission maintenance\"\n",
      "}\n",
      "```\n"
     ]
    }
   ],
   "source": [
    "print(answer_dict['generation_chain'])"
   ]
  },
  {
   "cell_type": "code",
   "execution_count": 9,
   "metadata": {},
   "outputs": [],
   "source": [
    "# Check if the output is satisfactory. You can modify the output parser to suit your needs using GUI. Following is a simple example.\n",
    "\n",
    "population = \"RA patients in sustained remission for over one year with DMARD monotherapy\" # str\n",
    "intervention = \"Drug discontinuation\" # str\n",
    "comparison = [\"Continued DMARD monotherapy\"] # list"
   ]
  },
  {
   "cell_type": "code",
   "execution_count": 10,
   "metadata": {},
   "outputs": [],
   "source": [
    "# Read pico_file\n",
    "with open(os.path.join(YOUR_QUESTION_DECOMPOSTITION_PATH,'PICO_Information.json'), 'r', encoding=\"utf8\") as file:\n",
    "    pico_list = json.load(file)\n",
    "\n",
    "# Add a new question to the pico_file\n",
    "pico_dict = {}\n",
    "pico_dict['Index'] = hashlib.sha256((clinical_question).encode('utf-8')).hexdigest()[:8]\n",
    "pico_dict['Question'] = clinical_question\n",
    "pico_dict['P'] = population\n",
    "pico_dict['I'] = intervention\n",
    "pico_dict['C'] = comparison\n",
    "pico_list.append(pico_dict)\n",
    "\n",
    "# Save to pico information file\n",
    "with open(os.path.join(YOUR_QUESTION_DECOMPOSTITION_PATH,'PICO_Information.json'), 'w', encoding=\"utf8\") as file:\n",
    "    json.dump(pico_list, file, indent=4, ensure_ascii=False)"
   ]
  }
 ],
 "metadata": {
  "kernelspec": {
   "display_name": "quicker",
   "language": "python",
   "name": "python3"
  },
  "language_info": {
   "codemirror_mode": {
    "name": "ipython",
    "version": 3
   },
   "file_extension": ".py",
   "mimetype": "text/x-python",
   "name": "python",
   "nbconvert_exporter": "python",
   "pygments_lexer": "ipython3",
   "version": "3.11.10"
  }
 },
 "nbformat": 4,
 "nbformat_minor": 2
}
