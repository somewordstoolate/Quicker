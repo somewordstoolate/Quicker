{
 "cells": [
  {
   "cell_type": "markdown",
   "metadata": {},
   "source": [
    "# Study Selection\n",
    "partial version, contains full-text assessment "
   ]
  },
  {
   "cell_type": "code",
   "execution_count": 1,
   "metadata": {},
   "outputs": [],
   "source": [
    "import pandas as pd\n",
    "import os\n",
    "import json\n",
    "import logging\n",
    "import time\n",
    "\n",
    "from utils.General.quicker import Quicker, QuickerData, QuickerStage\n",
    "from utils.Evidence_Assessment.paper import Paper\n",
    "from utils.Evidence_Assessment.outcome import Outcome\n",
    "from utils.Evidence_Assessment.evidence import Evidence\n",
    "from utils.logging import setup_logging\n",
    "\n",
    "setup_logging()\n",
    "\n",
    "# Hyperparameters\n",
    "YOUR_CONFIG_PATH = 'YOUR_CONFIG_PATH' # e.g. 'config/config.json'\n",
    "YOUR_DATASET_PATH = 'YOUR_DATASET_PATH' # e.g. 'data/2021ACR RA'\n",
    "YOUR_QUESTION_DECOMPOSTITION_PATH =  'YOUR_QUESTION_DECOMPOSTITION_PATH' # e.g. 'data/2021ACR RA/Question_Decomposition'\n",
    "YOUR_LITERATURE_SEARCH_PATH = 'YOUR_LITERATURE_SEARCH_PATH' # e.g. 'data/2021ACR RA/Literature_Search'\n",
    "YOUR_STUDY_SELECTION_PATH = 'YOUR_STUDY_SELECTION_PATH' # e.g. 'data/2021ACR RA/Study_Selection'\n",
    "YOUR_EVIDENCE_ASSESSMENT_PATH = 'YOUR_EVIDENCE_ASSESSMENT_PATH' # e.g. 'data/2021ACR RA/Evidence_Assessment'\n",
    "YOUR_PAPER_LIBRARY_PATH = 'YOUR_PAPER_LIBRARY_PATH' # e.g. 'data/2021ACR RA/Paper_Library'\n",
    "record_included_path = \"your_record_included_path\" # json file. You can use the file saved by Quicker.quicker_data.to_json method.\n",
    "\n",
    "disease = 'disease_or_topic_of_your_question' # Disease name or clinical topic of your clinical question. e.g. 'Rheumatoid Arthritis (RA)'\n",
    "pico_idx = \"xxxxxxxxx\" # PICO index of the clinical question, saved in your PICO_Information.json file\n",
    "\n",
    "\n",
    "study_design_list = ['randomized clinical trial'] # Study design list for inclusion criteria"
   ]
  },
  {
   "cell_type": "code",
   "execution_count": null,
   "metadata": {},
   "outputs": [],
   "source": [
    "# The following example code is used to load included records from the json file by Quicker.quicker_data.to_json method.\n",
    "with open(record_included_path, 'r') as f:\n",
    "    record_included_dict = json.load(f)\n",
    "record_included_list = record_included_dict['record_included_studies'] "
   ]
  },
  {
   "cell_type": "code",
   "execution_count": 4,
   "metadata": {},
   "outputs": [],
   "source": [
    "quicker_data = QuickerData(disease=disease,pico_idx=pico_idx)\n",
    "quicker = Quicker(\n",
    "    config_path=YOUR_CONFIG_PATH,\n",
    "    question_deconstruction_database_path=YOUR_QUESTION_DECOMPOSTITION_PATH,\n",
    "    literature_search_database_path=YOUR_LITERATURE_SEARCH_PATH,\n",
    "    study_selection_database_path=YOUR_STUDY_SELECTION_PATH,\n",
    "    evidence_assessment_database_path=YOUR_EVIDENCE_ASSESSMENT_PATH,\n",
    "    quicker_data=quicker_data,\n",
    "    paper_library_base=YOUR_PAPER_LIBRARY_PATH,\n",
    ")\n",
    "\n",
    "quicker.comparator_postfix_map = {} #! set {} if only one comparator\n",
    "\n",
    "\n",
    "question_deconstruction_datapath = os.path.join(\n",
    "    quicker.question_deconstruction_database_path, 'PICO_Information.json'\n",
    ")\n",
    "question_deconstruction_data = pd.read_json(\n",
    "    question_deconstruction_datapath, dtype={'Index': str}\n",
    ")\n",
    "question_deconstruction_data = question_deconstruction_data[\n",
    "    question_deconstruction_data['Index'] == pico_idx\n",
    "]\n",
    "original_qd_dict = question_deconstruction_data.to_dict(orient='records')\n",
    "\n",
    "data_dict = dict(\n",
    "    clinical_question=original_qd_dict[0]['Question'],\n",
    "    population=original_qd_dict[0]['P'],\n",
    "    intervention=original_qd_dict[0]['I'],\n",
    "    comparison=original_qd_dict[0]['C'],\n",
    "    study=study_design_list,\n",
    "    outcome=original_qd_dict[0]['O'],\n",
    "\n",
    ")\n",
    "\n",
    "quicker._add_data_to_quickerdata_for_test(\n",
    "    stage=QuickerStage.LITERATURE_SEARCH,\n",
    "    default_value=data_dict,\n",
    ")\n",
    "\n",
    "quicker.set_inclusion_exclusion_criteria(inclusion_criteria='', exclusion_criteria='')"
   ]
  },
  {
   "cell_type": "code",
   "execution_count": 6,
   "metadata": {},
   "outputs": [
    {
     "name": "stdout",
     "output_type": "stream",
     "text": [
      "Quicker: STUDY_SELECTION\n",
      "StageState.NOT_STARTED\n"
     ]
    }
   ],
   "source": [
    "print(quicker)\n",
    "# print(quicker.quicker_data)\n",
    "print(quicker.quicker_data.check_stage_state())"
   ]
  },
  {
   "cell_type": "code",
   "execution_count": null,
   "metadata": {},
   "outputs": [],
   "source": [
    "#! Please implement the get_pdf method of class Paper in utils\\Evidence_Assessment\\paper.py\n",
    "_, _, _ = quicker.select_studies_by_full_text_assessment(record_included_list)"
   ]
  }
 ],
 "metadata": {
  "kernelspec": {
   "display_name": "quicker",
   "language": "python",
   "name": "python3"
  },
  "language_info": {
   "codemirror_mode": {
    "name": "ipython",
    "version": 3
   },
   "file_extension": ".py",
   "mimetype": "text/x-python",
   "name": "python",
   "nbconvert_exporter": "python",
   "pygments_lexer": "ipython3",
   "version": "3.1.-1"
  }
 },
 "nbformat": 4,
 "nbformat_minor": 2
}
