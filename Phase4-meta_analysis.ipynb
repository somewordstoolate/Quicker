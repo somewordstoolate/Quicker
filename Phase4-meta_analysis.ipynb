{
 "cells": [
  {
   "cell_type": "markdown",
   "metadata": {},
   "source": [
    "# Effect size Calculation\n",
    "We have developed a Python-based example for invoking R to compute effect sizes. Please ensure that the code is executed on your Linux server with R properly installed and configured."
   ]
  },
  {
   "cell_type": "markdown",
   "metadata": {},
   "source": [
    "## Dichotomous Outcome\n"
   ]
  },
  {
   "cell_type": "code",
   "execution_count": null,
   "metadata": {},
   "outputs": [],
   "source": [
    "import pandas as pd\n",
    "\n",
    "# Construct 2×2 data: ai, bi, ci, di\n",
    "# For example, each row represents a study with event.e / total.e and event.c / total.c\n",
    "data = {\n",
    "    'study': [\n",
    "        'study1',\n",
    "        'study2',\n",
    "        'study3',\n",
    "        'study4',\n",
    "        # 'study5',\n",
    "        # 'study6',\n",
    "        # 'study7', you can add more studies if needed\n",
    "              ],\n",
    "    'ai': [25,10,83,324],   # Number of events in the experimental group\n",
    "    'bi': [17,9,97,174],    # Number of non-events in the experimental group\n",
    "    'ci': [29,8,95,256],    # Number of events in the control group\n",
    "    'di': [14,8,87,245],    # Number of non-events in the control group\n",
    "}\n",
    "df = pd.DataFrame(data)\n",
    "df"
   ]
  },
  {
   "cell_type": "code",
   "execution_count": 96,
   "metadata": {},
   "outputs": [],
   "source": [
    "import rpy2.robjects as ro\n",
    "from rpy2.robjects import pandas2ri\n",
    "\n",
    "pandas2ri.activate()  # Activate pandas <-> R data.frame conversion\n",
    "\n",
    "r_df = pandas2ri.py2rpy(df)    \n",
    "ro.globalenv['meta_data'] = r_df  # In R, you can access it using meta_data\n"
   ]
  },
  {
   "cell_type": "code",
   "execution_count": null,
   "metadata": {},
   "outputs": [],
   "source": [
    "# Load the meta package\n",
    "ro.r('library(meta)')\n",
    "\n",
    "# Use metabin() with measure=\"RR\" (or \"OR\") and model=\"R\" for random effects model\n",
    "ro.r('res <- metabin(event.e=ai, n.e=ai+bi, event.c=ci, n.c=ci+di, data=meta_data, sm=\"RR\", method=\"MH\", fixed=FALSE, random=TRUE, studlab=study)')\n",
    "# Capture the output of summary(res) in R\n",
    "captured = ro.r('capture.output(summary(res))')\n",
    "# captured is a Python list, each element is a line\n",
    "for line in captured:\n",
    "    print(line)\n"
   ]
  },
  {
   "cell_type": "code",
   "execution_count": null,
   "metadata": {},
   "outputs": [],
   "source": [
    "# Absolute effect (RD) analysis, i.e., Risk Difference (Absolute Effect)\n",
    "ro.r('res_rd <- metabin(event.e=ai, n.e=ai+bi, event.c=ci, n.c=ci+di, '\n",
    "     'data=meta_data, sm=\"RD\", method=\"MH\", fixed=FALSE, random=TRUE,studlab=study)')\n",
    "\n",
    "captured_rd = ro.r('capture.output(summary(res_rd))')\n",
    "print(\"\\n=== Absolute Effect (RD) ===\")\n",
    "for line in captured_rd:\n",
    "    print(line)"
   ]
  },
  {
   "cell_type": "markdown",
   "metadata": {},
   "source": [
    "### Optional"
   ]
  },
  {
   "cell_type": "code",
   "execution_count": null,
   "metadata": {},
   "outputs": [],
   "source": [
    "from IPython.display import Image\n",
    "\n",
    "# Use forest() to draw a forest plot and save it as a PNG\n",
    "ro.r('''\n",
    "png(\"forest_RR.png\", width=1000, height=600, res=100)\n",
    "forest(res, main=\"Risk Ratio (Random Effects)\", comb.random=TRUE, comb.fixed=FALSE)\n",
    "dev.off()\n",
    "''')\n",
    "Image(\"forest_RR.png\")\n"
   ]
  },
  {
   "cell_type": "code",
   "execution_count": null,
   "metadata": {},
   "outputs": [],
   "source": [
    "# Draw a funnel plot and save it as a PNG\n",
    "# For the RR analysis result (res), generate a funnel plot\n",
    "ro.r('''\n",
    "png(\"funnel_RR.png\", width=800, height=600, res=120)\n",
    "funnel(res, main=\"Funnel Plot (RR)\",\n",
    "       xlab=\"Log Risk Ratio\", ylab=\"Standard Error of Log(RR)\")\n",
    "dev.off()\n",
    "''')\n",
    "Image(\"funnel_RR.png\")"
   ]
  },
  {
   "cell_type": "markdown",
   "metadata": {},
   "source": [
    "## Continuous Outcome"
   ]
  },
  {
   "cell_type": "code",
   "execution_count": null,
   "metadata": {},
   "outputs": [],
   "source": [
    "import rpy2.robjects as ro\n",
    "from rpy2.robjects import pandas2ri\n",
    "import pandas as pd\n",
    "\n",
    "# 1. Assume you already have a pandas DataFrame with the following column names:\n",
    "# study, mean_t, sd_t, n_t, mean_c, sd_c, n_c\n",
    "# These represent: study name, treatment group mean, treatment group SD, treatment group sample size,\n",
    "# control group mean, control group SD, control group sample size\n",
    "\n",
    "data = {\n",
    "    'study': ['Study 1'],\n",
    "    'mean_t': [4.4],    # Mean of the treatment group\n",
    "    'sd_t': [1.4],      # Standard deviation of the treatment group\n",
    "    'n_t': [49],        # Sample size of the treatment group\n",
    "    'mean_c': [5.2],    # Mean of the control group\n",
    "    'sd_c': [1.5],      # Standard deviation of the control group\n",
    "    'n_c': [53]         # Sample size of the control group\n",
    "}\n",
    "\n",
    "df = pd.DataFrame(data)\n",
    "\n",
    "# 2. Enable pandas <-> R conversion\n",
    "pandas2ri.activate()\n",
    "\n",
    "# 3. Pass the DataFrame to R and name it meta_data\n",
    "r_df = pandas2ri.py2rpy(df)\n",
    "ro.globalenv['meta_data'] = r_df\n",
    "\n",
    "# 4. Call R code\n",
    "# Load the meta package\n",
    "ro.r('library(meta)')\n",
    "\n",
    "# Perform meta-analysis for continuous outcomes using metacont()\n",
    "# sm=\"MD\" indicates that Mean Difference will be calculated\n",
    "ro.r('res <- metacont(n.e = n_t, mean.e = mean_t, sd.e = sd_t, '\n",
    "     'n.c = n_c, mean.c = mean_c, sd.c = sd_c, '\n",
    "     'data = meta_data, sm = \"MD\", method.tau = \"REML\", '\n",
    "     'fixed = FALSE, random = TRUE, studlab = study)')\n",
    "\n",
    "# 5. Capture the output of summary(res)\n",
    "captured = ro.r('capture.output(summary(res))')\n",
    "\n",
    "# 6. Print the results\n",
    "for line in captured:\n",
    "    print(line)\n"
   ]
  }
 ],
 "metadata": {
  "kernelspec": {
   "display_name": "quicker",
   "language": "python",
   "name": "python3"
  },
  "language_info": {
   "codemirror_mode": {
    "name": "ipython",
    "version": 3
   },
   "file_extension": ".py",
   "mimetype": "text/x-python",
   "name": "python",
   "nbconvert_exporter": "python",
   "pygments_lexer": "ipython3",
   "version": "3.11.10"
  }
 },
 "nbformat": 4,
 "nbformat_minor": 2
}
