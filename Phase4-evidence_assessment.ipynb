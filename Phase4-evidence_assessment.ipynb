{
 "cells": [
  {
   "cell_type": "markdown",
   "metadata": {},
   "source": [
    "# Evidence Assessment"
   ]
  },
  {
   "cell_type": "code",
   "execution_count": 1,
   "metadata": {},
   "outputs": [],
   "source": [
    "import pandas as pd\n",
    "import os\n",
    "import json\n",
    "import logging\n",
    "\n",
    "\n",
    "from utils.General.quicker import Quicker, QuickerData, QuickerStage\n",
    "from utils.Evidence_Assessment.paper import Paper\n",
    "from utils.Evidence_Assessment.outcome import Outcome\n",
    "from utils.Evidence_Assessment.evidence import Evidence\n",
    "from utils.logging import setup_logging\n",
    "\n",
    "# setup_logging()\n",
    "\n",
    "# Hyperparameters\n",
    "YOUR_CONFIG_PATH = 'config/config.json' #  your config.json file\n",
    "YOUR_QUESTION_DECOMPOSITION_PATH =  'data/2021ACR RA/Question_Decomposition' # your question decomposition folder\n",
    "YOUR_LITERATURE_SEARCH_PATH = 'data/2021ACR RA/Literature_Search' # your literature search folder\n",
    "YOUR_STUDY_SELECTION_PATH = 'data/2021ACR RA/Study_Selection' # your study selection folder\n",
    "YOUR_EVIDENCE_ASSESSMENT_PATH = 'data/2021ACR RA/Evidence_Assessment' # your evidence assessment folder\n",
    "YOUR_PAPER_LIBRARY_PATH = 'data/2021ACR RA/Paper_Library' # your paper library folder\n",
    "\n",
    "pico_idx = \"ef0e4f95\" # PICO index of the clinical question, saved in your PICO_Information.json file"
   ]
  },
  {
   "cell_type": "code",
   "execution_count": 2,
   "metadata": {},
   "outputs": [],
   "source": [
    "import shutil\n",
    "\n",
    "# move the files from the source directory to the target directory\n",
    "def transfer_outcome_and_paperinfo(source_dir_path, target_dir_path, only_index: str = None):\n",
    "    '''\n",
    "    Transfer the 'outcomeinfo' and 'paperinfo' folders and their subfolders/files from source_dir_path to target_dir_path.\n",
    "    If only_index is provided, only transfer subfolders/files containing '_PICO{only_index}' in their names.\n",
    "\n",
    "    :param source_dir_path: Source directory path\n",
    "    :param target_dir_path: Target directory path\n",
    "    :param only_index: Only transfer subfolders/files containing '_PICO{only_index}' in their names\n",
    "    '''\n",
    "\n",
    "    # Transfer 'outcomeinfo' folder\n",
    "    source_outcomeinfo_path = os.path.join(source_dir_path, 'outcomeinfo')\n",
    "    target_outcomeinfo_path = os.path.join(target_dir_path, 'outcomeinfo')\n",
    "    if os.path.exists(source_outcomeinfo_path):\n",
    "        if only_index:\n",
    "            for item in os.listdir(source_outcomeinfo_path):\n",
    "                if f'_PICO{only_index}' in item:\n",
    "                    source_item_path = os.path.join(source_outcomeinfo_path, item)\n",
    "                    target_item_path = os.path.join(target_outcomeinfo_path, item)\n",
    "                    if os.path.isdir(source_item_path):\n",
    "                        shutil.copytree(source_item_path, target_item_path, dirs_exist_ok=True)\n",
    "                    else:\n",
    "                        os.makedirs(target_outcomeinfo_path, exist_ok=True)\n",
    "                        shutil.copy2(source_item_path, target_item_path)\n",
    "        else:\n",
    "            shutil.copytree(source_outcomeinfo_path, target_outcomeinfo_path, dirs_exist_ok=True)\n",
    "\n",
    "    # Transfer 'paperinfo' folder\n",
    "    source_paperinfo_path = os.path.join(source_dir_path, 'paperinfo')\n",
    "    target_paperinfo_path = os.path.join(target_dir_path, 'paperinfo')\n",
    "    if os.path.exists(source_paperinfo_path):\n",
    "        if only_index:\n",
    "                    for item in os.listdir(source_paperinfo_path):\n",
    "                        if f'_PICO{only_index}' in item:\n",
    "                            source_item_path = os.path.join(source_paperinfo_path, item)\n",
    "                            target_item_path = os.path.join(target_paperinfo_path, item)\n",
    "                            if os.path.isdir(source_item_path):\n",
    "                                shutil.copytree(source_item_path, target_item_path, dirs_exist_ok=True)\n",
    "                            else:\n",
    "                                os.makedirs(target_paperinfo_path, exist_ok=True)\n",
    "                                shutil.copy2(source_item_path, target_item_path)\n",
    "        else:\n",
    "            shutil.copytree(source_paperinfo_path, target_paperinfo_path, dirs_exist_ok=True)\n",
    "\n"
   ]
  },
  {
   "cell_type": "code",
   "execution_count": 3,
   "metadata": {},
   "outputs": [],
   "source": [
    "# The confirmed documents need to be transferred to the evidence assessment path for subsequent operations. Here is an example code to transfer the files.\n",
    "# transfer_outcome_and_paperinfo(source_dir_path=YOUR_STUDY_SELECTION_PATH,target_dir_path=YOUR_EVIDENCE_ASSESSMENT_PATH,only_index=pico_index)"
   ]
  },
  {
   "cell_type": "code",
   "execution_count": 4,
   "metadata": {},
   "outputs": [],
   "source": [
    "quicker_data = QuickerData(disease='Rheumatoid Arthritis (RA)', pico_idx=pico_idx)\n",
    "quicker = Quicker(\n",
    "    config_path=YOUR_CONFIG_PATH,\n",
    "    question_deconstruction_database_path=YOUR_QUESTION_DECOMPOSITION_PATH,\n",
    "    literature_search_database_path=YOUR_LITERATURE_SEARCH_PATH,\n",
    "    study_selection_database_path=YOUR_STUDY_SELECTION_PATH,\n",
    "    evidence_assessment_database_path=YOUR_EVIDENCE_ASSESSMENT_PATH,\n",
    "    quicker_data=quicker_data,\n",
    "    paper_library_base=YOUR_PAPER_LIBRARY_PATH,\n",
    ")\n",
    "\n",
    "quicker.comparator_postfix_map = {}\n",
    "\n",
    "question_deconstruction_datapath = os.path.join(\n",
    "    quicker.question_deconstruction_database_path, 'PICO_Information.json'\n",
    ")\n",
    "\n",
    "question_deconstruction_data = pd.read_json(\n",
    "    question_deconstruction_datapath, dtype={'Index': str}\n",
    ")\n",
    "\n",
    "question_deconstruction_data = question_deconstruction_data[\n",
    "    question_deconstruction_data['Index'] == pico_idx\n",
    "]\n",
    "\n",
    "# print(question_deconstruction_data)\n",
    "original_qd_dict = question_deconstruction_data.to_dict(orient='records')\n",
    "\n",
    "data_dict = dict(\n",
    "    pico_idx=original_qd_dict[0]['Index'],\n",
    "    # pic=original_qd_dict[0]['Answer'],\n",
    "    clinical_question=original_qd_dict[0]['Question'],\n",
    "    population=original_qd_dict[0]['P'],\n",
    "    intervention=original_qd_dict[0]['I'],\n",
    "    comparison=original_qd_dict[0]['C'],\n",
    "    # study=original_qd_dict[0]['S'],\n",
    "    valid_comparison_list=original_qd_dict[0]['C'],\n",
    "    outcome=original_qd_dict[0]['O'],\n",
    "    # valid_comparison_list=original_qd_dict[0]['C'],\n",
    "    # annotation=annotation,\n",
    ")\n",
    "\n",
    "\n",
    "quicker._add_data_to_quickerdata_for_test(\n",
    "    stage=QuickerStage.STUDY_SELECTION,\n",
    "    default_value=data_dict,\n",
    ")\n"
   ]
  },
  {
   "cell_type": "code",
   "execution_count": 5,
   "metadata": {},
   "outputs": [
    {
     "name": "stdout",
     "output_type": "stream",
     "text": [
      "ef0e4f95\n",
      "Quicker: EVIDENCE_ASSESSMENT\n",
      "StageState.NOT_STARTED\n",
      "{'disease': 'Rheumatoid Arthritis (RA)', 'clinical_question': 'Should patients with RA on DMARDs who are in low disease activity gradually taper off DMARDs, abruptly withdraw DMARDs, or continue DMARDS at the same doses?', 'pico_idx': 'ef0e4f95', 'population': 'Patients with rheumatoid arthritis (RA) who are on Disease-Modifying Anti-Rheumatic Drugs (DMARDs) and in low disease activity', 'intervention': 'Gradually taper off DMARDs', 'comparison': ['Abruptly withdraw DMARDs or continue DMARDs at the same doses'], 'study': [], 'outcome': {'Abruptly withdraw DMARDs or continue DMARDs at the same doses': ['Disease activity (follow up: range 9 months to 12 months; assessed with: DAS28-ESR)', 'Flare (follow up: range 6 months to 12 months)', 'Radiographic progression (follow up: range 9 months to 12 months; assessed with: mTSS)', 'Fatigue (follow up: range 9 months to 12 months; assessed with: FACIT-F)', 'Quality of Life (follow up: 9 months; assessed with: SF-36 PCS)', 'Quality of Life (follow up: 9 months; assessed with: SF-36 MCS)', 'Disability (follow up: 12 months; assessed with: HAQ-DI)', 'Pain (follow up: 12 months; assessed with: VAS Pain)', 'Withdrawal due to lack of efficacy (follow up: 12 months)', 'Withdrawal due to adverse events (follow up: range 9 months to 12 months)', 'Serious adverse events (follow up: range 9 months to 12 months)', 'Malignancy (follow up: range 9 months to 12 months)', 'Death (follow up: 12 months)']}, 'search_config': {}, 'annotation': {}, 'search_strategy': '', 'search_results': {}, 'inclusion_criteria': '', 'exclusion_criteria': '', 'record_included_studies': [], 'full_text_included_studies': [], 'total_outcome_list': [], 'valid_comparison_list': ['Abruptly withdraw DMARDs or continue DMARDs at the same doses'], 'outcome_list': [Outcome UID: 19a3389b, Population: Patients with rheumatoid arthritis (RA) who are on Disease-Modifying Anti-Rheumatic Drugs (DMARDs) and in low disease activity, Intervention: Gradually taper off DMARDs, Comparator: Abruptly withdraw DMARDs or continue DMARDs at the same doses, Outcome: Flare (follow up: range 6 months to 12 months), Importance: CRITICAL, Related paper: ['566c1573'] \n",
      "Assessment Result: Assessment: GRADE-Study design \n",
      "RANDOMIZED_CONTROLLED_TRIAL\n",
      "], 'paper_list': [<utils.Evidence_Assessment.paper.Paper object at 0x7687697ac650>]}\n"
     ]
    }
   ],
   "source": [
    "\n",
    "quicker.load_outcome_list()\n",
    "quicker.load_paper_list()\n",
    "print(quicker.quicker_data.pico_idx)\n",
    "print(quicker)\n",
    "# print(quicker.quicker_data)\n",
    "\n",
    "print(quicker.quicker_data.check_stage_state())\n",
    "print(quicker.quicker_data.not_none_data)"
   ]
  },
  {
   "cell_type": "code",
   "execution_count": 6,
   "metadata": {},
   "outputs": [],
   "source": [
    "logging.info(\"Run evidence assessment\")\n",
    "for comparator in getattr(\n",
    "    quicker.quicker_data, 'valid_comparison_list'\n",
    "):  # list\n",
    "    assessed_outcome_list = quicker.assess_evidence(comparator=comparator)"
   ]
  }
 ],
 "metadata": {
  "kernelspec": {
   "display_name": "quicker",
   "language": "python",
   "name": "python3"
  },
  "language_info": {
   "codemirror_mode": {
    "name": "ipython",
    "version": 3
   },
   "file_extension": ".py",
   "mimetype": "text/x-python",
   "name": "python",
   "nbconvert_exporter": "python",
   "pygments_lexer": "ipython3",
   "version": "3.1.-1"
  }
 },
 "nbformat": 4,
 "nbformat_minor": 2
}
