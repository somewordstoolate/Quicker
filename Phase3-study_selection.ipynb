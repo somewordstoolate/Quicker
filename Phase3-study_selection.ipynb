{
 "cells": [
  {
   "cell_type": "markdown",
   "metadata": {},
   "source": [
    "# Study Selection\n",
    "Complete version, contains record screening and full-text assessment "
   ]
  },
  {
   "cell_type": "code",
   "execution_count": 2,
   "metadata": {},
   "outputs": [],
   "source": [
    "import pandas as pd\n",
    "import os\n",
    "import json\n",
    "import logging\n",
    "\n",
    "\n",
    "from utils.General.quicker import Quicker, QuickerData, QuickerStage\n",
    "from utils.Evidence_Assessment.paper import Paper\n",
    "from utils.Evidence_Assessment.outcome import Outcome\n",
    "from utils.Evidence_Assessment.evidence import Evidence\n",
    "from utils.logging import setup_logging\n",
    "\n",
    "# setup_logging()\n",
    "\n",
    "# Hyperparameters\n",
    "YOUR_CONFIG_PATH = 'config/config.json' #  your config.json file\n",
    "YOUR_DATASET_PATH = 'data/2021ACR RA' # your dataset path\n",
    "YOUR_QUESTION_DECOMPOSITION_PATH =  'data/2021ACR RA/Question_Decomposition' # your question decomposition folder\n",
    "YOUR_LITERATURE_SEARCH_PATH = 'data/2021ACR RA/Literature_Search' # your literature search folder\n",
    "YOUR_STUDY_SELECTION_PATH = 'data/2021ACR RA/Study_Selection' # your study selection folder\n",
    "YOUR_EVIDENCE_ASSESSMENT_PATH = 'data/2021ACR RA/Evidence_Assessment' # your evidence assessment folder\n",
    "YOUR_PAPER_LIBRARY_PATH = 'data/2021ACR RA/Paper_Library' # your paper library folder\n",
    "\n",
    "disease = 'Rheumatoid Arthritis (RA)' # Disease name or clinical topic of your clinical question. \n",
    "pico_idx = \"ef0e4f95\" # PICO index of the clinical question, saved in your PICO_Information.json file"
   ]
  },
  {
   "cell_type": "code",
   "execution_count": 3,
   "metadata": {},
   "outputs": [],
   "source": [
    "quickerdata_ls_path = os.path.join(YOUR_DATASET_PATH, f'quicker_data(PICO_IDX{pico_idx})_ls.json')\n",
    "with open(quickerdata_ls_path, 'r') as f:\n",
    "    quickerdata_ls = json.load(f)"
   ]
  },
  {
   "cell_type": "code",
   "execution_count": 4,
   "metadata": {},
   "outputs": [],
   "source": [
    "quicker_data = QuickerData(disease=disease,pico_idx=pico_idx)\n",
    "quicker = Quicker(\n",
    "    config_path=YOUR_CONFIG_PATH,\n",
    "    question_deconstruction_database_path=YOUR_QUESTION_DECOMPOSITION_PATH,\n",
    "    literature_search_database_path=YOUR_LITERATURE_SEARCH_PATH,\n",
    "    study_selection_database_path=YOUR_STUDY_SELECTION_PATH,\n",
    "    evidence_assessment_database_path=YOUR_EVIDENCE_ASSESSMENT_PATH,\n",
    "    quicker_data=quicker_data,\n",
    "    paper_library_base=YOUR_PAPER_LIBRARY_PATH,\n",
    ")\n",
    "\n",
    "\n",
    "data_dict = dict(\n",
    "\n",
    "    clinical_question=quickerdata_ls['clinical_question'],\n",
    "    population=quickerdata_ls['population'],\n",
    "    intervention=quickerdata_ls['intervention'],\n",
    "    comparison=quickerdata_ls['comparison'],\n",
    "    study=['randomized clinical trial'],\n",
    "\n",
    "    search_results=quickerdata_ls['search_results'],\n",
    "    # search_config=search_config,\n",
    ")\n",
    "\n",
    "\n",
    "quicker._add_data_to_quickerdata_for_test(\n",
    "    stage=QuickerStage.LITERATURE_SEARCH,\n",
    "    default_value=data_dict,\n",
    ")\n",
    "\n",
    "quicker.set_inclusion_exclusion_criteria(inclusion_criteria='', exclusion_criteria='')"
   ]
  },
  {
   "cell_type": "code",
   "execution_count": 5,
   "metadata": {},
   "outputs": [
    {
     "name": "stdout",
     "output_type": "stream",
     "text": [
      "Quicker: STUDY_SELECTION\n",
      "StageState.NOT_STARTED\n"
     ]
    }
   ],
   "source": [
    "print(quicker)\n",
    "# print(quicker.quicker_data)\n",
    "print(quicker.quicker_data.check_stage_state())\n",
    "# print(quicker.quicker_data.not_none_data)\n"
   ]
  },
  {
   "cell_type": "code",
   "execution_count": 6,
   "metadata": {},
   "outputs": [],
   "source": [
    "from utils.Study_Selection.record_screening import screen_records\n",
    "import time\n",
    "from utils.Study_Selection.base import get_clinical_question_with_pico\n",
    "\n",
    "logging.info(\"Run study selection\")\n",
    "\n",
    "quicker.execute_current_stage()"
   ]
  },
  {
   "cell_type": "code",
   "execution_count": 7,
   "metadata": {},
   "outputs": [],
   "source": [
    "record_screening_method = quicker.config['study_selection']['record_screening_method']\n",
    "quicker.quicker_data.to_json(\n",
    "    os.path.join(YOUR_STUDY_SELECTION_PATH,f'Results/screening_records/{record_screening_method}/{pico_idx}')\n",
    ")"
   ]
  }
 ],
 "metadata": {
  "kernelspec": {
   "display_name": "quicker",
   "language": "python",
   "name": "python3"
  },
  "language_info": {
   "codemirror_mode": {
    "name": "ipython",
    "version": 3
   },
   "file_extension": ".py",
   "mimetype": "text/x-python",
   "name": "python",
   "nbconvert_exporter": "python",
   "pygments_lexer": "ipython3",
   "version": "3.11.10"
  }
 },
 "nbformat": 4,
 "nbformat_minor": 2
}
